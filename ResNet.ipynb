{
 "cells": [
  {
   "cell_type": "code",
   "execution_count": 5,
   "id": "4448d813-310c-432b-b824-64ce5944d05a",
   "metadata": {},
   "outputs": [
    {
     "data": {
      "text/plain": [
       "True"
      ]
     },
     "execution_count": 5,
     "metadata": {},
     "output_type": "execute_result"
    }
   ],
   "source": [
    "import os\n",
    "\n",
    "# Change this to your image folder path\n",
    "image_folder = './extracted'\n",
    "\n",
    "# Check if the folder exists\n",
    "os.path.exists(image_folder)"
   ]
  },
  {
   "cell_type": "code",
   "execution_count": 6,
   "id": "d69f2237-332c-45fd-9f99-00fbc007e3cc",
   "metadata": {},
   "outputs": [],
   "source": [
    "import torch\n",
    "import torch.nn as nn\n",
    "import torch.optim as optim\n",
    "from torch.optim import lr_scheduler \n",
    "from torch.utils.data import DataLoader\n",
    "from torch.utils.data import Dataset\n",
    "from torch.utils.data import random_split\n",
    "import torchvision\n",
    "from torchvision import datasets, models, transforms\n",
    "from torchvision.models import ResNet18_Weights \n",
    "\n",
    "import numpy as np\n",
    "import matplotlib.pyplot as plt\n",
    "import pandas as pd\n",
    "import time\n",
    "import os\n",
    "import copy\n",
    "from PIL import Image "
   ]
  },
  {
   "cell_type": "code",
   "execution_count": null,
   "id": "1f01d6b2-f23c-4f70-82b2-ea7880d9674f",
   "metadata": {
    "scrolled": true
   },
   "outputs": [],
   "source": [
    "pip install pandas"
   ]
  },
  {
   "cell_type": "code",
   "execution_count": null,
   "id": "2e0f3c67-d215-44fb-93d2-2b48bd65e031",
   "metadata": {
    "scrolled": true
   },
   "outputs": [],
   "source": [
    "pip install torch torchvision torchaudio"
   ]
  },
  {
   "cell_type": "code",
   "execution_count": 2,
   "id": "0d323940-6d8c-45c6-af2f-7453e30904b6",
   "metadata": {},
   "outputs": [
    {
     "name": "stdout",
     "output_type": "stream",
     "text": [
      "True\n"
     ]
    }
   ],
   "source": [
    "import torch\n",
    "print(torch.cuda.is_available()) "
   ]
  },
  {
   "cell_type": "code",
   "execution_count": 3,
   "id": "543743d1-f9e5-4306-8098-3e043a724b70",
   "metadata": {},
   "outputs": [],
   "source": [
    "transform = transforms.Compose([\n",
    "    transforms.Resize((256, 256)), \n",
    "    transforms.CenterCrop(224),\n",
    "    transforms.ToTensor(), \n",
    "    transforms.Normalize([0.485, 0.456, 0.406], [0.229, 0.224, 0.225])\n",
    "])\n",
    "\n",
    "class WikiArtsDataset(Dataset):\n",
    "    def __init__(self, annotations_file, img_dir, transform=None, target_transform=None): \n",
    "        self.img_labels = pd.read_csv(annotations_file)\n",
    "        self.img_dir = img_dir\n",
    "        self.transform = transform \n",
    "        self.target_transform = target_transform\n",
    "        \n",
    "    def __len__(self): \n",
    "        return len(self.img_labels)\n",
    "    \n",
    "    def __getitem__(self, idx): \n",
    "        img_path = self.img_labels.iloc[idx, 0]\n",
    "        #image = read_image(img_path)\n",
    "        image = Image.open(img_path).convert(\"RGB\")\n",
    "        label = self.img_labels.iloc[idx, 1]\n",
    "        \n",
    "        if self.transform:\n",
    "            image = self.transform(image)\n",
    "        if self.target_transform:\n",
    "            label = self.target_transform(label)\n",
    "        return image, label\n"
   ]
  },
  {
   "cell_type": "code",
   "execution_count": 24,
   "id": "ac41a9d3-b6e7-4a4d-92d7-32ef0bc5cd93",
   "metadata": {},
   "outputs": [],
   "source": [
    "all_labels_df = pd.read_csv(\"WikiArts_labeled.csv\")\n",
    "genres = sorted(list(all_labels_df.iloc[:, 1].unique()))\n",
    "num_classes = len(genres)\n",
    "\n",
    "class_to_idx = {genre_name: i for i, genre_name in enumerate(genres)}\n",
    "idx_to_class = {i: genre_name for i, genre_name in enumerate(genres)}\n",
    "\n",
    "label_transform = lambda x: class_to_idx[x]"
   ]
  },
  {
   "cell_type": "code",
   "execution_count": 29,
   "id": "96b92aeb-ff70-4cb8-9ccb-0387eb06eb48",
   "metadata": {},
   "outputs": [
    {
     "data": {
      "text/plain": [
       "27"
      ]
     },
     "execution_count": 29,
     "metadata": {},
     "output_type": "execute_result"
    }
   ],
   "source": [
    "num_classes"
   ]
  },
  {
   "cell_type": "code",
   "execution_count": 25,
   "id": "45835d33-e2a7-47cc-981c-a14f4219ff8d",
   "metadata": {},
   "outputs": [],
   "source": [
    "dataset = WikiArtsDataset(\"WikiArts_labeled.csv\", img_dir=None, transform=transform, target_transform=label_transform)"
   ]
  },
  {
   "cell_type": "code",
   "execution_count": 26,
   "id": "ea9f322c-7831-45e9-860f-13e0898ce4ce",
   "metadata": {},
   "outputs": [],
   "source": [
    "generator = torch.Generator().manual_seed(40)\n",
    "train_size = int(0.8*len(dataset))\n",
    "test_size = len(dataset) - train_size\n",
    "train, test = random_split(dataset, [train_size, test_size], generator=generator)"
   ]
  },
  {
   "cell_type": "code",
   "execution_count": 27,
   "id": "5e35b3cf-b3ce-4740-a1f7-c3e9ddadbd4e",
   "metadata": {},
   "outputs": [],
   "source": [
    "train_dataloader = DataLoader(train, batch_size=128, shuffle=True)\n",
    "test_dataloader = DataLoader(test, batch_size=128, shuffle=True)"
   ]
  },
  {
   "cell_type": "code",
   "execution_count": 50,
   "id": "5a3a8128-2817-4ee8-acfb-3f7d3eac9f06",
   "metadata": {},
   "outputs": [
    {
     "name": "stdout",
     "output_type": "stream",
     "text": [
      "Using device: cuda\n"
     ]
    }
   ],
   "source": [
    "device = torch.device(\"cuda\" if torch.cuda.is_available() else \"cpu\")\n",
    "print(f\"Using device: {device}\")"
   ]
  },
  {
   "cell_type": "code",
   "execution_count": 51,
   "id": "6b8bb13a-77c9-4522-8c63-bd426ce4bcca",
   "metadata": {},
   "outputs": [],
   "source": [
    "weights = ResNet18_Weights.DEFAULT\n",
    "model = models.resnet18(weights=weights)\n"
   ]
  },
  {
   "cell_type": "code",
   "execution_count": 52,
   "id": "c5776f9c-ecb2-4ce1-a67c-eef6bcb27858",
   "metadata": {},
   "outputs": [],
   "source": [
    "for param in model.parameters(): \n",
    "    param.requires_grad = False\n",
    "\n",
    "in_features = model.fc.in_features\n",
    "\n",
    "# The WikiArts dataset has 27 features, whose parameters will be trainable. \n",
    "model.fc = nn.Linear(in_features, 27)"
   ]
  },
  {
   "cell_type": "code",
   "execution_count": 53,
   "id": "0bf056e3-46f8-467a-a34f-3bf4fa66b6f8",
   "metadata": {},
   "outputs": [],
   "source": [
    "model = model.to(device)"
   ]
  },
  {
   "cell_type": "code",
   "execution_count": 54,
   "id": "42fbdac1-846d-46c0-9925-624895fcde10",
   "metadata": {},
   "outputs": [],
   "source": [
    "optimizer = torch.optim.Adam(model.fc.parameters(), lr=0.001)"
   ]
  },
  {
   "cell_type": "code",
   "execution_count": 55,
   "id": "6dffc9ec-54fc-4fc5-8244-e84b869f5900",
   "metadata": {},
   "outputs": [],
   "source": [
    "def train_resnet18(model, optimizer, criterion, train_loader, epochs): \n",
    "    running_loss = []\n",
    "    running_avg = 0\n",
    "    i = 0\n",
    "    for epoch in range(epochs): \n",
    "        epoch_loss = 0\n",
    "        for inputs, labels in train_loader: \n",
    "            inputs = inputs.to(device)\n",
    "            labels = labels.to(device)\n",
    "\n",
    "            optimizer.zero_grad()\n",
    "\n",
    "            outputs = model(inputs)\n",
    "            loss = criterion(outputs, labels)\n",
    "\n",
    "            loss.backward()\n",
    "            optimizer.step()\n",
    "\n",
    "            epoch_loss += loss.item()\n",
    "            running_avg += loss.item()\n",
    "            \n",
    "            if (i+1) % 100 == 0: \n",
    "                print(running_avg/100)\n",
    "                running_loss.append(running_avg / 100)\n",
    "                running_avg = 0\n",
    "\n",
    "            i += 1\n",
    "\n",
    "        print(f'Epoch {epoch+1}/{epochs}, Loss: {epoch_loss}/{len(train_loader)}')\n",
    "\n",
    "    return model.state_dict(), running_loss"
   ]
  },
  {
   "cell_type": "code",
   "execution_count": 56,
   "id": "1c08b4b7-531b-49e1-a198-64012d3c6352",
   "metadata": {},
   "outputs": [],
   "source": [
    "criterion = nn.CrossEntropyLoss()        "
   ]
  },
  {
   "cell_type": "code",
   "execution_count": 68,
   "id": "6423f2b8-b51a-4ca7-a16b-5bb11bd26997",
   "metadata": {},
   "outputs": [
    {
     "name": "stdout",
     "output_type": "stream",
     "text": [
      "1.5597229874134064\n",
      "1.5637556552886962\n",
      "1.5636085438728333\n",
      "1.5806154370307923\n",
      "1.5507441747188568\n",
      "Epoch 1/2, Loss: 783.5601925849915/501\n",
      "1.556209808588028\n",
      "1.5646318018436431\n",
      "1.568508619070053\n",
      "1.5551085376739502\n",
      "1.5623114025592804\n",
      "Epoch 2/2, Loss: 782.0856893062592/501\n"
     ]
    }
   ],
   "source": [
    "trained_weights, running_loss2 = train_resnet18(model, optimizer, criterion, train_dataloader, 2)"
   ]
  },
  {
   "cell_type": "code",
   "execution_count": 61,
   "id": "4bf5aa42-9a46-4e92-80cf-ea5a25c3baef",
   "metadata": {},
   "outputs": [
    {
     "data": {
      "text/plain": [
       "Text(0, 0.5, 'Training Loss')"
      ]
     },
     "execution_count": 61,
     "metadata": {},
     "output_type": "execute_result"
    },
    {
     "data": {
      "image/png": "[encoded data removed]",
      "text/plain": [
       "<Figure size 640x480 with 1 Axes>"
      ]
     },
     "metadata": {},
     "output_type": "display_data"
    }
   ],
   "source": [
    "plt.plot(running_loss)  \n",
    "plt.xlabel(\"100 Batches\")          \n",
    "plt.ylabel(\"Training Loss\")    "
   ]
  },
  {
   "cell_type": "code",
   "execution_count": 70,
   "id": "ab7edcf5-9e38-46c9-92b8-807e4fa69bcb",
   "metadata": {},
   "outputs": [
    {
     "data": {
      "text/plain": [
       "Text(0, 0.5, 'Training Loss')"
      ]
     },
     "execution_count": 70,
     "metadata": {},
     "output_type": "execute_result"
    },
    {
     "data": {
      "image/png": "[encoded data removed]",
      "text/plain": [
       "<Figure size 640x480 with 1 Axes>"
      ]
     },
     "metadata": {},
     "output_type": "display_data"
    }
   ],
   "source": [
    "plt.plot(running_loss2)  \n",
    "plt.xlabel(\"100 Batches\")          \n",
    "plt.ylabel(\"Training Loss\")"
   ]
  },
  {
   "cell_type": "code",
   "execution_count": 64,
   "id": "2bf7c212-aa63-40b2-b6d8-7075e513dca6",
   "metadata": {},
   "outputs": [],
   "source": [
    "torch.save(trained_weights, \"resnet18savedweights.pt\")"
   ]
  },
  {
   "cell_type": "code",
   "execution_count": 62,
   "id": "db17a9a5-28b4-4346-bb77-373ba98ff13e",
   "metadata": {},
   "outputs": [],
   "source": [
    "running_loss_1 = running_loss"
   ]
  },
  {
   "cell_type": "code",
   "execution_count": 67,
   "id": "2e89158f-dc01-4bf3-b4a1-1f73b6375e03",
   "metadata": {},
   "outputs": [
    {
     "name": "stdout",
     "output_type": "stream",
     "text": [
      "Old learning rate: 0.0001\n"
     ]
    }
   ],
   "source": [
    "print(f\"Old learning rate: {optimizer.param_groups[0]['lr']}\")\n",
    "\n"
   ]
  },
  {
   "cell_type": "code",
   "execution_count": 66,
   "id": "abbdebd0-43c8-4e8c-aeaa-9f5abfe8049b",
   "metadata": {},
   "outputs": [],
   "source": [
    "# 2. Set the new learning rate\n",
    "new_lr = 0.0001\n",
    "for param_group in optimizer.param_groups:\n",
    "    param_group['lr'] = new_lr"
   ]
  },
  {
   "cell_type": "code",
   "execution_count": 1,
   "id": "32ed7491-e014-45fd-9000-cc5931c38e64",
   "metadata": {},
   "outputs": [
    {
     "name": "stdout",
     "output_type": "stream",
     "text": [
      "Defaulting to user installation because normal site-packages is not writeable\n",
      "Collecting grad-cam\n",
      "  Downloading grad-cam-1.5.5.tar.gz (7.8 MB)\n",
      "\u001b[2K     \u001b[38;2;114;156;31m━━━━━━━━━━━━━━━━━━━━━━━━━━━━━━━━━━━━━━━━\u001b[0m \u001b[32m7.8/7.8 MB\u001b[0m \u001b[31m10.2 MB/s\u001b[0m eta \u001b[36m0:00:00\u001b[0m\u001b[36m0:00:01\u001b[0m\n",
      "\u001b[?25h  Installing build dependencies ... \u001b[?25ldone\n",
      "\u001b[?25h  Getting requirements to build wheel ... \u001b[?25ldone\n",
      "\u001b[?25h  Preparing metadata (pyproject.toml) ... \u001b[?25ldone\n",
      "\u001b[?25hRequirement already satisfied: numpy in /common/home/rzs9/.local/lib/python3.10/site-packages (from grad-cam) (2.2.5)\n",
      "Requirement already satisfied: Pillow in /usr/lib/python3/dist-packages (from grad-cam) (9.0.1)\n",
      "Requirement already satisfied: torch>=1.7.1 in /common/home/rzs9/.local/lib/python3.10/site-packages (from grad-cam) (2.7.0)\n",
      "Requirement already satisfied: torchvision>=0.8.2 in /common/home/rzs9/.local/lib/python3.10/site-packages (from grad-cam) (0.22.0)\n",
      "Collecting ttach (from grad-cam)\n",
      "  Downloading ttach-0.0.3-py3-none-any.whl.metadata (5.2 kB)\n",
      "Requirement already satisfied: tqdm in /common/home/rzs9/.local/lib/python3.10/site-packages (from grad-cam) (4.67.1)\n",
      "Collecting opencv-python (from grad-cam)\n",
      "  Downloading opencv_python-4.11.0.86-cp37-abi3-manylinux_2_17_x86_64.manylinux2014_x86_64.whl.metadata (20 kB)\n",
      "Requirement already satisfied: matplotlib in /common/home/rzs9/.local/lib/python3.10/site-packages (from grad-cam) (3.10.1)\n",
      "Requirement already satisfied: scikit-learn in /common/home/rzs9/.local/lib/python3.10/site-packages (from grad-cam) (1.6.1)\n",
      "Requirement already satisfied: filelock in /usr/lib/python3/dist-packages (from torch>=1.7.1->grad-cam) (3.6.0)\n",
      "Requirement already satisfied: typing-extensions>=4.10.0 in /common/home/rzs9/.local/lib/python3.10/site-packages (from torch>=1.7.1->grad-cam) (4.13.2)\n",
      "Requirement already satisfied: sympy>=1.13.3 in /common/home/rzs9/.local/lib/python3.10/site-packages (from torch>=1.7.1->grad-cam) (1.14.0)\n",
      "Requirement already satisfied: networkx in /common/home/rzs9/.local/lib/python3.10/site-packages (from torch>=1.7.1->grad-cam) (3.4.2)\n",
      "Requirement already satisfied: jinja2 in /usr/lib/python3/dist-packages (from torch>=1.7.1->grad-cam) (3.0.3)\n",
      "Requirement already satisfied: fsspec in /common/home/rzs9/.local/lib/python3.10/site-packages (from torch>=1.7.1->grad-cam) (2025.3.2)\n",
      "Requirement already satisfied: nvidia-cuda-nvrtc-cu12==12.6.77 in /common/home/rzs9/.local/lib/python3.10/site-packages (from torch>=1.7.1->grad-cam) (12.6.77)\n",
      "Requirement already satisfied: nvidia-cuda-runtime-cu12==12.6.77 in /common/home/rzs9/.local/lib/python3.10/site-packages (from torch>=1.7.1->grad-cam) (12.6.77)\n",
      "Requirement already satisfied: nvidia-cuda-cupti-cu12==12.6.80 in /common/home/rzs9/.local/lib/python3.10/site-packages (from torch>=1.7.1->grad-cam) (12.6.80)\n",
      "Requirement already satisfied: nvidia-cudnn-cu12==9.5.1.17 in /common/home/rzs9/.local/lib/python3.10/site-packages (from torch>=1.7.1->grad-cam) (9.5.1.17)\n",
      "Requirement already satisfied: nvidia-cublas-cu12==12.6.4.1 in /common/home/rzs9/.local/lib/python3.10/site-packages (from torch>=1.7.1->grad-cam) (12.6.4.1)\n",
      "Requirement already satisfied: nvidia-cufft-cu12==11.3.0.4 in /common/home/rzs9/.local/lib/python3.10/site-packages (from torch>=1.7.1->grad-cam) (11.3.0.4)\n",
      "Requirement already satisfied: nvidia-curand-cu12==10.3.7.77 in /common/home/rzs9/.local/lib/python3.10/site-packages (from torch>=1.7.1->grad-cam) (10.3.7.77)\n",
      "Requirement already satisfied: nvidia-cusolver-cu12==11.7.1.2 in /common/home/rzs9/.local/lib/python3.10/site-packages (from torch>=1.7.1->grad-cam) (11.7.1.2)\n",
      "Requirement already satisfied: nvidia-cusparse-cu12==12.5.4.2 in /common/home/rzs9/.local/lib/python3.10/site-packages (from torch>=1.7.1->grad-cam) (12.5.4.2)\n",
      "Requirement already satisfied: nvidia-cusparselt-cu12==0.6.3 in /common/home/rzs9/.local/lib/python3.10/site-packages (from torch>=1.7.1->grad-cam) (0.6.3)\n",
      "Requirement already satisfied: nvidia-nccl-cu12==2.26.2 in /common/home/rzs9/.local/lib/python3.10/site-packages (from torch>=1.7.1->grad-cam) (2.26.2)\n",
      "Requirement already satisfied: nvidia-nvtx-cu12==12.6.77 in /common/home/rzs9/.local/lib/python3.10/site-packages (from torch>=1.7.1->grad-cam) (12.6.77)\n",
      "Requirement already satisfied: nvidia-nvjitlink-cu12==12.6.85 in /common/home/rzs9/.local/lib/python3.10/site-packages (from torch>=1.7.1->grad-cam) (12.6.85)\n",
      "Requirement already satisfied: nvidia-cufile-cu12==1.11.1.6 in /common/home/rzs9/.local/lib/python3.10/site-packages (from torch>=1.7.1->grad-cam) (1.11.1.6)\n",
      "Requirement already satisfied: triton==3.3.0 in /common/home/rzs9/.local/lib/python3.10/site-packages (from torch>=1.7.1->grad-cam) (3.3.0)\n",
      "Requirement already satisfied: setuptools>=40.8.0 in /usr/lib/python3/dist-packages (from triton==3.3.0->torch>=1.7.1->grad-cam) (59.6.0)\n",
      "Requirement already satisfied: contourpy>=1.0.1 in /common/home/rzs9/.local/lib/python3.10/site-packages (from matplotlib->grad-cam) (1.3.2)\n",
      "Requirement already satisfied: cycler>=0.10 in /common/home/rzs9/.local/lib/python3.10/site-packages (from matplotlib->grad-cam) (0.12.1)\n",
      "Requirement already satisfied: fonttools>=4.22.0 in /common/home/rzs9/.local/lib/python3.10/site-packages (from matplotlib->grad-cam) (4.57.0)\n",
      "Requirement already satisfied: kiwisolver>=1.3.1 in /common/home/rzs9/.local/lib/python3.10/site-packages (from matplotlib->grad-cam) (1.4.8)\n",
      "Requirement already satisfied: packaging>=20.0 in /usr/local/lib/python3.10/dist-packages (from matplotlib->grad-cam) (23.1)\n",
      "Requirement already satisfied: pyparsing>=2.3.1 in /usr/lib/python3/dist-packages (from matplotlib->grad-cam) (2.4.7)\n",
      "Requirement already satisfied: python-dateutil>=2.7 in /common/home/rzs9/.local/lib/python3.10/site-packages (from matplotlib->grad-cam) (2.9.0.post0)\n",
      "Requirement already satisfied: scipy>=1.6.0 in /common/home/rzs9/.local/lib/python3.10/site-packages (from scikit-learn->grad-cam) (1.15.2)\n",
      "Requirement already satisfied: joblib>=1.2.0 in /common/home/rzs9/.local/lib/python3.10/site-packages (from scikit-learn->grad-cam) (1.4.2)\n",
      "Requirement already satisfied: threadpoolctl>=3.1.0 in /common/home/rzs9/.local/lib/python3.10/site-packages (from scikit-learn->grad-cam) (3.6.0)\n",
      "Requirement already satisfied: six>=1.5 in /usr/lib/python3/dist-packages (from python-dateutil>=2.7->matplotlib->grad-cam) (1.16.0)\n",
      "Requirement already satisfied: mpmath<1.4,>=1.1.0 in /common/home/rzs9/.local/lib/python3.10/site-packages (from sympy>=1.13.3->torch>=1.7.1->grad-cam) (1.3.0)\n",
      "Downloading opencv_python-4.11.0.86-cp37-abi3-manylinux_2_17_x86_64.manylinux2014_x86_64.whl (63.0 MB)\n",
      "\u001b[2K   \u001b[38;2;114;156;31m━━━━━━━━━━━━━━━━━━━━━━━━━━━━━━━━━━━━━━━━\u001b[0m \u001b[32m63.0/63.0 MB\u001b[0m \u001b[31m11.1 MB/s\u001b[0m eta \u001b[36m0:00:00\u001b[0m0m eta \u001b[36m0:00:01\u001b[0m[36m0:00:01\u001b[0m\n",
      "\u001b[?25hDownloading ttach-0.0.3-py3-none-any.whl (9.8 kB)\n",
      "Building wheels for collected packages: grad-cam\n",
      "  Building wheel for grad-cam (pyproject.toml) ... \u001b[?25ldone\n",
      "\u001b[?25h  Created wheel for grad-cam: filename=grad_cam-1.5.5-py3-none-any.whl size=44284 sha256=8b99132bdfe84b12c2edbf051a5d9e9db9ccc8cee6fc5d94998e3997d8756c86\n",
      "  Stored in directory: /common/home/rzs9/.cache/pip/wheels/3d/b6/be/e13cccebb2aa8855f678b02ad449e803de1dfbe75853c34b3e\n",
      "Successfully built grad-cam\n",
      "Installing collected packages: ttach, opencv-python, grad-cam\n",
      "Successfully installed grad-cam-1.5.5 opencv-python-4.11.0.86 ttach-0.0.3\n",
      "\n",
      "\u001b[1m[\u001b[0m\u001b[34;49mnotice\u001b[0m\u001b[1;39;49m]\u001b[0m\u001b[39;49m A new release of pip is available: \u001b[0m\u001b[31;49m24.2\u001b[0m\u001b[39;49m -> \u001b[0m\u001b[32;49m25.1\u001b[0m\n",
      "\u001b[1m[\u001b[0m\u001b[34;49mnotice\u001b[0m\u001b[1;39;49m]\u001b[0m\u001b[39;49m To update, run: \u001b[0m\u001b[32;49mpython3 -m pip install --upgrade pip\u001b[0m\n",
      "Note: you may need to restart the kernel to use updated packages.\n"
     ]
    }
   ],
   "source": [
    "pip install grad-cam"
   ]
  },
  {
   "cell_type": "code",
   "execution_count": null,
   "id": "88bc444e-ec72-4ea3-a68e-7a5ba60bb74e",
   "metadata": {},
   "outputs": [],
   "source": []
  }
 ],
 "metadata": {
  "kernelspec": {
   "display_name": "Python 3 (ipykernel)",
   "language": "python",
   "name": "python3"
  },
  "language_info": {
   "codemirror_mode": {
    "name": "ipython",
    "version": 3
   },
   "file_extension": ".py",
   "mimetype": "text/x-python",
   "name": "python",
   "nbconvert_exporter": "python",
   "pygments_lexer": "ipython3",
   "version": "3.10.12"
  }
 },
 "nbformat": 4,
 "nbformat_minor": 5
}
